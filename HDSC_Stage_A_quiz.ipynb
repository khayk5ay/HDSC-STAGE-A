{
  "cells": [
    {
      "cell_type": "markdown",
      "metadata": {
        "id": "view-in-github",
        "colab_type": "text"
      },
      "source": [
        "<a href=\"https://colab.research.google.com/github/khayk5ay/HDSC-STAGE-A/blob/main/HDSC_Stage_A_quiz.ipynb\" target=\"_parent\"><img src=\"https://colab.research.google.com/assets/colab-badge.svg\" alt=\"Open In Colab\"/></a>"
      ]
    },
    {
      "cell_type": "code",
      "execution_count": null,
      "metadata": {
        "id": "YqDP30krdW6n"
      },
      "outputs": [],
      "source": [
        "import numpy as np\n",
        "import pandas as pd"
      ]
    },
    {
      "cell_type": "code",
      "execution_count": null,
      "metadata": {
        "id": "ftEoPp8edcXp"
      },
      "outputs": [],
      "source": [
        "food_data = pd.read_csv('/content/drive/MyDrive/FoodBalanceSheets_E_Africa_NOFLAG.csv', error_bad_lines=False, encoding='latin-1')\n",
        "#food_data.isna()\n",
        "#food_data.head()"
      ]
    },
    {
      "cell_type": "code",
      "execution_count": null,
      "metadata": {
        "id": "mqjNIEYWkO7t"
      },
      "outputs": [],
      "source": [
        "#question 11\n",
        "q11= food_data.groupby('Item')\n",
        "q11[['Y2014', 'Y2017']].sum().loc[\"Animal fats\"]\n",
        "#q11#['Y2017'].sum()"
      ]
    },
    {
      "cell_type": "code",
      "execution_count": null,
      "metadata": {
        "id": "t1ttCXb7tiqw"
      },
      "outputs": [],
      "source": [
        "#q12\n",
        "#mean value across the dataset for Year 2015\n",
        "mean2015 = np.mean(food_data[\"Y2015\"])\n",
        "\n",
        "#standard deviation across the dataset for Year 2015\n",
        "std2015 = food_data.std()[\"Y2015\"]\n",
        "\n",
        "#print results in 3 decimal places\n",
        "print(\"The mean is \", format(mean2015, \".3f\"))\n",
        "print(\"The standard deviation is \", format(std2015, \".3f\"))"
      ]
    },
    {
      "cell_type": "code",
      "execution_count": null,
      "metadata": {
        "id": "-EQ37nIitmTG"
      },
      "outputs": [],
      "source": [
        "#q13\n",
        "#total number of null values in Y2016 column\n",
        "total_null_2016 = food_data.isnull().sum()['Y2016']\n",
        "\n",
        "print('The total number of null values in 2016 is', total_null_2016)"
      ]
    },
    {
      "cell_type": "code",
      "execution_count": null,
      "metadata": {
        "id": "bOXYt3nxuKeV"
      },
      "outputs": [],
      "source": [
        "#q14\n",
        "correlation_table = food_data.corr()\n",
        "\n",
        "#get correlation values among the years\n",
        "yearscorr = correlation_table.loc['Element Code', 'Y2014':]\n",
        "yearscorr\n",
        "\n",
        "#get maximum correlation value\n",
        "#maxcorr = yearscorr.sort_values('Element Code', ascending = False).iloc[0]"
      ]
    },
    {
      "cell_type": "code",
      "execution_count": null,
      "metadata": {
        "id": "nMFzJEf3uK_L"
      },
      "outputs": [],
      "source": [
        "#q15\n",
        "groupby_element = food_data.groupby('Element')\n",
        "\n",
        "groupby_element.sum().loc['Import Quantity', 'Y2014':]"
      ]
    },
    {
      "cell_type": "code",
      "execution_count": null,
      "metadata": {
        "id": "KkZnZQVSuPUl"
      },
      "outputs": [],
      "source": [
        "#q16\n",
        "production_sum_2015 = groupby_element.sum().loc['Production', 'Y2014']\n",
        "\n",
        "print(\"The total sum of production in 2015 is\", format(production_sum_2015, \".2f\"))"
      ]
    },
    {
      "cell_type": "code",
      "execution_count": null,
      "metadata": {
        "id": "t6dXGYXEuPuH"
      },
      "outputs": [],
      "source": [
        "#q17\n",
        "element_2018 = food_data[['Element', 'Y2018']]\n",
        "\n",
        "element_2018.groupby('Element').sum().sort_values('Y2018', ascending = False).iloc[0]"
      ]
    },
    {
      "cell_type": "code",
      "execution_count": null,
      "metadata": {
        "id": "kKst1gnyuP_v"
      },
      "outputs": [],
      "source": [
        "#q18\n",
        "element_2018.groupby('Element').sum().sort_values('Y2018').iloc[2]"
      ]
    },
    {
      "cell_type": "code",
      "execution_count": null,
      "metadata": {
        "id": "IC5hJWd-uQQr"
      },
      "outputs": [],
      "source": [
        "#q19\n",
        "q19_df = food_data[['Element', 'Area', 'Y2018']]\n",
        "\n",
        "q19_df.groupby(['Area','Element']).sum().loc['Algeria', 'Import Quantity']"
      ]
    },
    {
      "cell_type": "code",
      "execution_count": null,
      "metadata": {
        "id": "u1lx288_hRay"
      },
      "outputs": [],
      "source": [
        "#question 20\n",
        "len(food_data.groupby('Area'))"
      ]
    }
  ],
  "metadata": {
    "colab": {
      "name": "HDSC Stage A quiz.ipynb",
      "provenance": [],
      "collapsed_sections": [],
      "mount_file_id": "1vrVZEydRQvRFLlmKNfFPwth5KqKKUcVs",
      "authorship_tag": "ABX9TyOHUMiwhb7Nz7EAObchPN7H",
      "include_colab_link": true
    },
    "kernelspec": {
      "display_name": "Python 3",
      "name": "python3"
    },
    "language_info": {
      "name": "python"
    }
  },
  "nbformat": 4,
  "nbformat_minor": 0
}