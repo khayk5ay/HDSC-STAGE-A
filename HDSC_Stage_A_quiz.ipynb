{
  "cells": [
    {
      "cell_type": "markdown",
      "metadata": {
        "id": "view-in-github",
        "colab_type": "text"
      },
      "source": [
        "<a href=\"https://colab.research.google.com/github/khayk5ay/HDSC-STAGE-A/blob/main/HDSC_Stage_A_quiz.ipynb\" target=\"_parent\"><img src=\"https://colab.research.google.com/assets/colab-badge.svg\" alt=\"Open In Colab\"/></a>"
      ]
    },
    {
      "cell_type": "code",
      "execution_count": null,
      "metadata": {
        "id": "YqDP30krdW6n"
      },
      "outputs": [],
      "source": [
        "import numpy as np\n",
        "import pandas as pd"
      ]
    },
    {
      "cell_type": "code",
      "execution_count": null,
      "metadata": {
        "id": "ftEoPp8edcXp"
      },
      "outputs": [],
      "source": [
        "food_data = pd.read_csv('/content/drive/MyDrive/FoodBalanceSheets_E_Africa_NOFLAG.csv', error_bad_lines=False, encoding='latin-1')\n",
        "#food_data.isna()\n",
        "#food_data.head()"
      ]
    },
    {
      "cell_type": "code",
      "execution_count": null,
      "metadata": {
        "colab": {
          "base_uri": "https://localhost:8080/"
        },
        "id": "mqjNIEYWkO7t",
        "outputId": "833c0a70-bdf8-4f84-db2e-72acb8eba808"
      },
      "outputs": [
        {
          "output_type": "execute_result",
          "data": {
            "text/plain": [
              "Y2014    209460.54\n",
              "Y2017    269617.53\n",
              "Name: Animal fats, dtype: float64"
            ]
          },
          "metadata": {},
          "execution_count": 21
        }
      ],
      "source": [
        "#question 11\n",
        "q11= food_data.groupby('Item')\n",
        "q11[['Y2014', 'Y2017']].sum().loc[\"Animal fats\"]\n",
        "#q11#['Y2017'].sum()"
      ]
    },
    {
      "cell_type": "code",
      "execution_count": null,
      "metadata": {
        "colab": {
          "base_uri": "https://localhost:8080/"
        },
        "id": "t1ttCXb7tiqw",
        "outputId": "e2054d6c-f195-4fb5-f971-fdf8c21545c6"
      },
      "outputs": [
        {
          "output_type": "stream",
          "name": "stdout",
          "text": [
            "The mean is  135.236\n",
            "The standard deviation is  1603.404\n"
          ]
        }
      ],
      "source": [
        "#q12\n",
        "#mean value across the dataset for Year 2015\n",
        "mean2015 = np.mean(food_data[\"Y2015\"])\n",
        "\n",
        "#standard deviation across the dataset for Year 2015\n",
        "std2015 = food_data.std()[\"Y2015\"]\n",
        "\n",
        "#print results in 3 decimal places\n",
        "print(\"The mean is \", format(mean2015, \".3f\"))\n",
        "print(\"The standard deviation is \", format(std2015, \".3f\"))"
      ]
    },
    {
      "cell_type": "code",
      "execution_count": null,
      "metadata": {
        "colab": {
          "base_uri": "https://localhost:8080/"
        },
        "id": "-EQ37nIitmTG",
        "outputId": "c44ad499-cc3a-439c-bd51-310ebe223cb3"
      },
      "outputs": [
        {
          "output_type": "stream",
          "name": "stdout",
          "text": [
            "The total number of null values in 2016 is 1535\n"
          ]
        }
      ],
      "source": [
        "#q13\n",
        "#total number of null values in Y2016 column\n",
        "total_null_2016 = food_data.isnull().sum()['Y2016']\n",
        "\n",
        "print('The total number of null values in 2016 is', total_null_2016)"
      ]
    },
    {
      "cell_type": "code",
      "execution_count": null,
      "metadata": {
        "colab": {
          "base_uri": "https://localhost:8080/"
        },
        "id": "bOXYt3nxuKeV",
        "outputId": "0d555562-0745-45f7-ae52-64f4826d9ed9"
      },
      "outputs": [
        {
          "output_type": "execute_result",
          "data": {
            "text/plain": [
              "Y2014    0.024457\n",
              "Y2015    0.023889\n",
              "Y2016    0.023444\n",
              "Y2017    0.024254\n",
              "Y2018    0.024279\n",
              "Name: Element Code, dtype: float64"
            ]
          },
          "metadata": {},
          "execution_count": 18
        }
      ],
      "source": [
        "#q14\n",
        "correlation_table = food_data.corr()\n",
        "\n",
        "#get correlation values among the years\n",
        "yearscorr = correlation_table.loc['Element Code', 'Y2014':]\n",
        "yearscorr\n",
        "\n",
        "#get maximum correlation value\n",
        "#maxcorr = yearscorr.sort_values('Element Code', ascending = False).iloc[0]"
      ]
    },
    {
      "cell_type": "code",
      "execution_count": null,
      "metadata": {
        "colab": {
          "base_uri": "https://localhost:8080/"
        },
        "id": "nMFzJEf3uK_L",
        "outputId": "a119a6a9-bef1-4d56-b2bd-db90f0f117d3"
      },
      "outputs": [
        {
          "output_type": "execute_result",
          "data": {
            "text/plain": [
              "Y2014    274144.48\n",
              "Y2015    267018.46\n",
              "Y2016    286582.78\n",
              "Y2017    294559.09\n",
              "Y2018    287997.09\n",
              "Name: Import Quantity, dtype: float64"
            ]
          },
          "metadata": {},
          "execution_count": 7
        }
      ],
      "source": [
        "#q15\n",
        "groupby_element = food_data.groupby('Element')\n",
        "\n",
        "groupby_element.sum().loc['Import Quantity', 'Y2014':]"
      ]
    },
    {
      "cell_type": "code",
      "execution_count": null,
      "metadata": {
        "id": "KkZnZQVSuPUl",
        "colab": {
          "base_uri": "https://localhost:8080/"
        },
        "outputId": "377329df-787b-4dc3-df6b-9b12cc32d698"
      },
      "outputs": [
        {
          "output_type": "stream",
          "name": "stdout",
          "text": [
            "The total sum of production in 2015 is 1931287.75\n"
          ]
        }
      ],
      "source": [
        "#q16\n",
        "production_sum_2015 = groupby_element.sum().loc['Production', 'Y2014']\n",
        "\n",
        "print(\"The total sum of production in 2015 is\", format(production_sum_2015, \".2f\"))"
      ]
    },
    {
      "cell_type": "code",
      "execution_count": null,
      "metadata": {
        "id": "t6dXGYXEuPuH",
        "colab": {
          "base_uri": "https://localhost:8080/"
        },
        "outputId": "02c13c70-1e38-42aa-d08c-07d0c280798a"
      },
      "outputs": [
        {
          "output_type": "execute_result",
          "data": {
            "text/plain": [
              "Y2018    2161192.1\n",
              "Name: Domestic supply quantity, dtype: float64"
            ]
          },
          "metadata": {},
          "execution_count": 9
        }
      ],
      "source": [
        "#q17\n",
        "element_2018 = food_data[['Element', 'Y2018']]\n",
        "\n",
        "element_2018.groupby('Element').sum().sort_values('Y2018', ascending = False).iloc[0]"
      ]
    },
    {
      "cell_type": "code",
      "execution_count": null,
      "metadata": {
        "id": "kKst1gnyuP_v",
        "colab": {
          "base_uri": "https://localhost:8080/"
        },
        "outputId": "555c56be-3101-407f-e6a0-3d01caf80093"
      },
      "outputs": [
        {
          "output_type": "execute_result",
          "data": {
            "text/plain": [
              "Y2018    11833.56\n",
              "Name: Protein supply quantity (g/capita/day), dtype: float64"
            ]
          },
          "metadata": {},
          "execution_count": 10
        }
      ],
      "source": [
        "#q18\n",
        "element_2018.groupby('Element').sum().sort_values('Y2018').iloc[2]"
      ]
    },
    {
      "cell_type": "code",
      "execution_count": null,
      "metadata": {
        "id": "IC5hJWd-uQQr",
        "colab": {
          "base_uri": "https://localhost:8080/"
        },
        "outputId": "7f5af6ab-0911-4e27-ea86-f2e06a64f809"
      },
      "outputs": [
        {
          "output_type": "execute_result",
          "data": {
            "text/plain": [
              "Y2018    36238.29\n",
              "Name: (Algeria, Import Quantity), dtype: float64"
            ]
          },
          "metadata": {},
          "execution_count": 11
        }
      ],
      "source": [
        "#q19\n",
        "q19_df = food_data[['Element', 'Area', 'Y2018']]\n",
        "\n",
        "q19_df.groupby(['Area','Element']).sum().loc['Algeria', 'Import Quantity']"
      ]
    },
    {
      "cell_type": "code",
      "execution_count": null,
      "metadata": {
        "id": "u1lx288_hRay",
        "colab": {
          "base_uri": "https://localhost:8080/"
        },
        "outputId": "9fba48de-52cd-4d08-e9d4-0af5be27b63d"
      },
      "outputs": [
        {
          "output_type": "execute_result",
          "data": {
            "text/plain": [
              "49"
            ]
          },
          "metadata": {},
          "execution_count": 20
        }
      ],
      "source": [
        "#question 20\n",
        "len(food_data.groupby('Area'))"
      ]
    }
  ],
  "metadata": {
    "colab": {
      "name": "HDSC Stage A quiz.ipynb",
      "provenance": [],
      "collapsed_sections": [],
      "mount_file_id": "1vrVZEydRQvRFLlmKNfFPwth5KqKKUcVs",
      "authorship_tag": "ABX9TyOHUMiwhb7Nz7EAObchPN7H",
      "include_colab_link": true
    },
    "kernelspec": {
      "display_name": "Python 3",
      "name": "python3"
    },
    "language_info": {
      "name": "python"
    }
  },
  "nbformat": 4,
  "nbformat_minor": 0
}